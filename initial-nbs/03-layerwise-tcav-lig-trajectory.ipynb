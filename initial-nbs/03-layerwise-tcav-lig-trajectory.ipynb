{
 "cells": [
  {
   "cell_type": "code",
   "execution_count": null,
   "metadata": {
    "execution": {
     "iopub.execute_input": "2025-08-14T22:31:16.166046Z",
     "iopub.status.busy": "2025-08-14T22:31:16.165796Z",
     "iopub.status.idle": "2025-08-14T22:32:44.750174Z",
     "shell.execute_reply": "2025-08-14T22:32:44.749136Z",
     "shell.execute_reply.started": "2025-08-14T22:31:16.166026Z"
    },
    "trusted": true
   },
   "outputs": [],
   "source": [
    "!pip -q install captum"
   ]
  },
  {
   "cell_type": "code",
   "execution_count": 2,
   "metadata": {
    "execution": {
     "iopub.execute_input": "2025-08-14T22:32:44.754982Z",
     "iopub.status.busy": "2025-08-14T22:32:44.754758Z",
     "iopub.status.idle": "2025-08-14T22:32:52.319561Z",
     "shell.execute_reply": "2025-08-14T22:32:52.318855Z",
     "shell.execute_reply.started": "2025-08-14T22:32:44.754956Z"
    },
    "trusted": true
   },
   "outputs": [],
   "source": [
    "import torch\n",
    "from torch import nn, optim\n",
    "from torch.utils.data import Dataset, Subset, DataLoader\n",
    "\n",
    "from torchvision import transforms, datasets, models\n",
    "from captum.attr import LayerIntegratedGradients\n",
    "\n",
    "from tqdm import tqdm\n",
    "import numpy as np\n",
    "import matplotlib.pyplot as plt\n",
    "from sklearn.model_selection import train_test_split\n",
    "from sklearn.linear_model import LogisticRegression\n",
    "\n",
    "\n",
    "device = torch.device('cuda:0' if torch.cuda.is_available() else 'cpu')\n",
    "data_mean = [.485, .456, .406]\n",
    "data_std = [.229, .224, .225]\n",
    "image_size = 224"
   ]
  },
  {
   "cell_type": "code",
   "execution_count": 3,
   "metadata": {
    "execution": {
     "iopub.execute_input": "2025-08-14T22:32:52.322292Z",
     "iopub.status.busy": "2025-08-14T22:32:52.321903Z",
     "iopub.status.idle": "2025-08-14T22:33:01.075341Z",
     "shell.execute_reply": "2025-08-14T22:33:01.074601Z",
     "shell.execute_reply.started": "2025-08-14T22:32:52.322272Z"
    },
    "trusted": true
   },
   "outputs": [
    {
     "name": "stderr",
     "output_type": "stream",
     "text": [
      "100%|██████████| 170M/170M [00:04<00:00, 34.2MB/s] \n"
     ]
    }
   ],
   "source": [
    "preprocessing = transforms.Compose([\n",
    "    transforms.Resize((image_size, image_size)),\n",
    "    transforms.ToTensor(),\n",
    "    transforms.Normalize(mean=data_mean, std=data_std)\n",
    "])\n",
    "train_dataset = datasets.CIFAR10(root=\"data\", train=True, download=True, transform=preprocessing)\n",
    "test_dataset = datasets.CIFAR10(root=\"data\", train=False, download=True, transform=preprocessing)"
   ]
  },
  {
   "cell_type": "code",
   "execution_count": 4,
   "metadata": {
    "execution": {
     "iopub.execute_input": "2025-08-14T22:33:01.076494Z",
     "iopub.status.busy": "2025-08-14T22:33:01.076228Z",
     "iopub.status.idle": "2025-08-14T22:33:01.085592Z",
     "shell.execute_reply": "2025-08-14T22:33:01.084790Z",
     "shell.execute_reply.started": "2025-08-14T22:33:01.076474Z"
    },
    "trusted": true
   },
   "outputs": [],
   "source": [
    "class Collector:\n",
    "    def __init__(self, module):\n",
    "        self.module = module\n",
    "        self.activation = None\n",
    "        self.hook = module.register_forward_hook(self.hook_fn)\n",
    "\n",
    "    def hook_fn(self, module, input_, output):\n",
    "        self.activations = output.detach().cpu()\n",
    "\n",
    "    def clear(self):\n",
    "        self.activations = None\n",
    "\n",
    "    def remove(self):\n",
    "        self.hook.remove()\n",
    "\n",
    "def collect_activations(model, loader, layer_module=None, layer_name=None, num_batches=None):\n",
    "    if not ((layer_module is None) ^ (layer_name is None)):\n",
    "        raise Exception(\"should pass layer_module xor layer_name\")\n",
    "\n",
    "    if layer_name:\n",
    "        layer_module = dict(model.named_modules())[layer_name]\n",
    "\n",
    "    model.eval()\n",
    "    device = next(model.parameters()).device\n",
    "    farmer = Collector(layer_module)\n",
    "    activations = []\n",
    "    with torch.no_grad():\n",
    "        for i, (imgs, _) in enumerate(loader):\n",
    "            _ = model(imgs.to(device))\n",
    "            As = farmer.activations\n",
    "            b, c, = As.shape[:2]\n",
    "            As = As.view(b, c, -1).mean(dim=2)\n",
    "            activations.append(As.numpy())\n",
    "            farmer.clear()\n",
    "            if num_batches is not None and i == num_batches:\n",
    "                break\n",
    "    farmer.remove()\n",
    "    return np.vstack(activations)"
   ]
  },
  {
   "cell_type": "code",
   "execution_count": 5,
   "metadata": {
    "execution": {
     "iopub.execute_input": "2025-08-14T22:33:01.087431Z",
     "iopub.status.busy": "2025-08-14T22:33:01.086815Z",
     "iopub.status.idle": "2025-08-14T22:33:01.110908Z",
     "shell.execute_reply": "2025-08-14T22:33:01.110061Z",
     "shell.execute_reply.started": "2025-08-14T22:33:01.087396Z"
    },
    "trusted": true
   },
   "outputs": [],
   "source": [
    "def train_cav(pos_acts, neg_acts):\n",
    "    x = np.vstack([pos_acts, neg_acts])\n",
    "    y = np.hstack([np.ones(len(pos_acts)), np.zeros(len(neg_acts))])\n",
    "    x_train, x_test, y_train, y_test = train_test_split(x, y, test_size=0.2)\n",
    "    clf = LogisticRegression(max_iter=1000)\n",
    "    clf.fit(x_train, y_train)\n",
    "    acc = clf.score(x_test, y_test)\n",
    "    w = clf.coef_.reshape(-1)\n",
    "    w = w / (np.linalg.norm(w) + 1e-12)\n",
    "    return w, acc"
   ]
  },
  {
   "cell_type": "code",
   "execution_count": 6,
   "metadata": {
    "execution": {
     "iopub.execute_input": "2025-08-14T22:33:01.112176Z",
     "iopub.status.busy": "2025-08-14T22:33:01.111911Z",
     "iopub.status.idle": "2025-08-14T22:33:01.129399Z",
     "shell.execute_reply": "2025-08-14T22:33:01.128439Z",
     "shell.execute_reply.started": "2025-08-14T22:33:01.112155Z"
    },
    "trusted": true
   },
   "outputs": [],
   "source": [
    "def layer_ig_concept_attribution(model, layer_module, inputs, baseline, target, cav,\n",
    "                                 device):\n",
    "    lig = LayerIntegratedGradients(model, layer_module)\n",
    "    attributions_layer = lig.attribute(inputs, baselines=baseline, target=target)\n",
    "    b = attributions_layer.shape[0]\n",
    "    c = attributions_layer.shape[1]\n",
    "    a_l = attributions_layer.view(b, c, -1).mean(dim=2).detach()\n",
    "    cav = torch.from_numpy(cav).to(a_l.dtype).to(device)\n",
    "    return (a_l @ cav).sign().mean()"
   ]
  },
  {
   "cell_type": "code",
   "execution_count": null,
   "metadata": {
    "execution": {
     "iopub.execute_input": "2025-08-14T22:33:01.131070Z",
     "iopub.status.busy": "2025-08-14T22:33:01.130471Z",
     "iopub.status.idle": "2025-08-14T22:33:01.948743Z",
     "shell.execute_reply": "2025-08-14T22:33:01.948032Z",
     "shell.execute_reply.started": "2025-08-14T22:33:01.131037Z"
    },
    "trusted": true
   },
   "outputs": [],
   "source": [
    "concept_class = 0\n",
    "target_class = 12\n",
    "max_samples = 200\n",
    "\n",
    "pos_idx = np.where(np.array(train_dataset.targets) == concept_class)[0][:max_samples]\n",
    "pos_dataset = Subset(train_dataset, pos_idx)\n",
    "pos_loader = DataLoader(pos_dataset, batch_size=64, shuffle=True, num_workers=2)\n",
    "\n",
    "neg_idx = np.where(np.array(train_dataset.targets) != concept_class)[0][:max_samples]\n",
    "neg_dataset = Subset(train_dataset, neg_idx)\n",
    "neg_loader = DataLoader(neg_dataset, batch_size=64, shuffle=True, num_workers=2)\n",
    "\n",
    "probe_loader = DataLoader(\n",
    "    Subset(test_dataset, list(range(200))),\n",
    "    batch_size=64,\n",
    "    shuffle=False,\n",
    "    num_workers=2\n",
    ")\n",
    "\n",
    "model = models.resnet18(pretrained=True)\n",
    "model = model.to(device)\n",
    "model.eval()\n",
    "\n",
    "\n",
    "layers = [\n",
    "    (model.layer1, 'layer1'), \n",
    "    (model.layer2, 'layer2'),\n",
    "    (model.layer3, 'layer3'), \n",
    "    (model.layer4, 'layer4')\n",
    "]"
   ]
  },
  {
   "cell_type": "code",
   "execution_count": 8,
   "metadata": {
    "execution": {
     "iopub.execute_input": "2025-08-14T22:33:01.949861Z",
     "iopub.status.busy": "2025-08-14T22:33:01.949600Z",
     "iopub.status.idle": "2025-08-14T22:33:02.620874Z",
     "shell.execute_reply": "2025-08-14T22:33:02.619613Z",
     "shell.execute_reply.started": "2025-08-14T22:33:01.949841Z"
    },
    "trusted": true
   },
   "outputs": [],
   "source": [
    "cavs = []\n",
    "cav_accs = []\n",
    "layer_names = []\n",
    "probe_inputs = []\n",
    "\n",
    "for i, (x, _) in enumerate(probe_loader):\n",
    "    probe_inputs.append(x)\n",
    "    if i+1 >= 10:\n",
    "        break\n",
    "\n",
    "probe_inputs = torch.cat(probe_inputs, dim=0).to(device)\n",
    "b, c, h, w, = probe_inputs.shape\n",
    "baseline = torch.tensor(data_mean).view(1, 3, 1, 1).repeat(1, 1, image_size, image_size).to(device)"
   ]
  },
  {
   "cell_type": "code",
   "execution_count": 9,
   "metadata": {
    "execution": {
     "iopub.execute_input": "2025-08-14T22:33:02.624274Z",
     "iopub.status.busy": "2025-08-14T22:33:02.623769Z",
     "iopub.status.idle": "2025-08-14T22:33:38.604776Z",
     "shell.execute_reply": "2025-08-14T22:33:38.603905Z",
     "shell.execute_reply.started": "2025-08-14T22:33:02.624241Z"
    },
    "trusted": true
   },
   "outputs": [
    {
     "name": "stderr",
     "output_type": "stream",
     "text": [
      "100%|██████████| 100/100 [00:09<00:00, 11.04it/s]\n",
      "100%|██████████| 100/100 [00:07<00:00, 13.11it/s]\n",
      "100%|██████████| 100/100 [00:06<00:00, 14.90it/s]\n",
      "100%|██████████| 100/100 [00:05<00:00, 16.82it/s]\n"
     ]
    }
   ],
   "source": [
    "trajectories = []\n",
    "for layer_module, layer_name in layers:\n",
    "    layer_names.append(layer_name)\n",
    "    pos_acts = collect_activations(model, pos_loader, layer_module)\n",
    "    \n",
    "    neg_acts = collect_activations(model, neg_loader, layer_module)\n",
    "    w, acc = train_cav(pos_acts, neg_acts)\n",
    "    cavs.append(w)\n",
    "    cav_accs.append(acc)\n",
    "\n",
    "    n = 2\n",
    "    scores = torch.zeros(1).to(device)\n",
    "    for chunk in tqdm(range(max_samples // n)):\n",
    "        slice_ = slice(chunk*n, (chunk+1)*n)\n",
    "        scores += layer_ig_concept_attribution(model, layer_module, probe_inputs[slice_], baseline,\n",
    "                                              target_class, w, device)\n",
    "    trajectories.append(scores / (max_samples // n))\n",
    "\n",
    "trajectories = [t.item() for t in trajectories]"
   ]
  },
  {
   "cell_type": "code",
   "execution_count": 16,
   "metadata": {
    "execution": {
     "iopub.execute_input": "2025-08-14T22:34:31.313919Z",
     "iopub.status.busy": "2025-08-14T22:34:31.313572Z",
     "iopub.status.idle": "2025-08-14T22:34:31.319509Z",
     "shell.execute_reply": "2025-08-14T22:34:31.318613Z",
     "shell.execute_reply.started": "2025-08-14T22:34:31.313894Z"
    },
    "trusted": true
   },
   "outputs": [],
   "source": [
    "def plot_trajectory(layer_names, trajectories, cav_accs):\n",
    "    trajectories = np.array(trajectories)\n",
    "    n= len(trajectories)\n",
    "\n",
    "    plt.figure(figsize=(10, 5))\n",
    "    plt.plot(range(n), trajectories, marker='o')\n",
    "    plt.plot(range(n), cav_accs, marker='o', color=\"red\")\n",
    "\n",
    "    plt.xticks(range(n), layer_names)\n",
    "    plt.title('concept trajectory across selected layers')\n",
    "    plt.grid(True)\n",
    "    plt.show()"
   ]
  },
  {
   "cell_type": "code",
   "execution_count": null,
   "metadata": {
    "execution": {
     "iopub.execute_input": "2025-08-14T22:34:31.617415Z",
     "iopub.status.busy": "2025-08-14T22:34:31.616325Z",
     "iopub.status.idle": "2025-08-14T22:34:31.796584Z",
     "shell.execute_reply": "2025-08-14T22:34:31.795602Z",
     "shell.execute_reply.started": "2025-08-14T22:34:31.617381Z"
    },
    "trusted": true
   },
   "outputs": [],
   "source": [
    "plot_trajectory(layer_names, trajectories, cav_accs)"
   ]
  }
 ],
 "metadata": {
  "kaggle": {
   "accelerator": "gpu",
   "dataSources": [],
   "dockerImageVersionId": 31089,
   "isGpuEnabled": true,
   "isInternetEnabled": true,
   "language": "python",
   "sourceType": "notebook"
  },
  "kernelspec": {
   "display_name": "Python 3",
   "language": "python",
   "name": "python3"
  },
  "language_info": {
   "codemirror_mode": {
    "name": "ipython",
    "version": 3
   },
   "file_extension": ".py",
   "mimetype": "text/x-python",
   "name": "python",
   "nbconvert_exporter": "python",
   "pygments_lexer": "ipython3",
   "version": "3.11.13"
  }
 },
 "nbformat": 4,
 "nbformat_minor": 4
}
