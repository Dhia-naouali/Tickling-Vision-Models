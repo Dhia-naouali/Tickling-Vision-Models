{
 "cells": [
  {
   "cell_type": "code",
   "execution_count": null,
   "metadata": {
    "execution": {
     "iopub.execute_input": "2025-08-13T06:06:48.317751Z",
     "iopub.status.busy": "2025-08-13T06:06:48.317474Z",
     "iopub.status.idle": "2025-08-13T06:06:56.325103Z",
     "shell.execute_reply": "2025-08-13T06:06:56.324325Z",
     "shell.execute_reply.started": "2025-08-13T06:06:48.317728Z"
    },
    "trusted": true
   },
   "outputs": [],
   "source": [
    "import torch\n",
    "from torch import nn, optim\n",
    "import torch.nn.functional as F\n",
    "\n",
    "import torchvision\n",
    "from torchvision.utils import make_grid\n",
    "from torchvision import transforms, datasets, models\n",
    "\n",
    "from tqdm import tqdm\n",
    "import matplotlib.pyplot as plt\n",
    "\n",
    "device = torch.device(\"cuda:0\" if torch.cuda.is_available() else \"cpu\")\n",
    "normalize = lambda x: (x - x.min()) / (x.max() - x.min())\n",
    "model = models.googlenet(pretrained=True).to(device).eval()"
   ]
  },
  {
   "cell_type": "code",
   "execution_count": null,
   "metadata": {
    "execution": {
     "iopub.execute_input": "2025-08-13T06:06:59.909836Z",
     "iopub.status.busy": "2025-08-13T06:06:59.909491Z",
     "iopub.status.idle": "2025-08-13T06:07:12.285885Z",
     "shell.execute_reply": "2025-08-13T06:07:12.285306Z",
     "shell.execute_reply.started": "2025-08-13T06:06:59.909816Z"
    },
    "trusted": true
   },
   "outputs": [],
   "source": [
    "transform = transforms.Compose([\n",
    "    transforms.Resize(256),\n",
    "    transforms.CenterCrop(224),\n",
    "    transforms.ToTensor(),\n",
    "    transforms.Normalize(mean=[0.485, 0.456, 0.406], std=[0.229, 0.224, 0.225])\n",
    "])\n",
    "\n",
    "\n",
    "dataset = datasets.Imagenette(\n",
    "    root='data/imagenette',\n",
    "    split='train',\n",
    "    size='320px',\n",
    "    download=True,\n",
    "    transform=transform\n",
    ")\n",
    "\n",
    "loader = torch.utils.data.DataLoader(dataset, batch_size=32, shuffle=False)"
   ]
  },
  {
   "cell_type": "code",
   "execution_count": 3,
   "metadata": {
    "execution": {
     "iopub.execute_input": "2025-08-13T06:07:12.287279Z",
     "iopub.status.busy": "2025-08-13T06:07:12.287007Z",
     "iopub.status.idle": "2025-08-13T06:07:13.314963Z",
     "shell.execute_reply": "2025-08-13T06:07:13.314209Z",
     "shell.execute_reply.started": "2025-08-13T06:07:12.287238Z"
    },
    "trusted": true
   },
   "outputs": [
    {
     "data": {
      "text/plain": [
       "(tensor([0.4085], device='cuda:0'), tensor([0], device='cuda:0'))"
      ]
     },
     "execution_count": 3,
     "metadata": {},
     "output_type": "execute_result"
    }
   ],
   "source": [
    "indices = [0]\n",
    "sample_images = torch.cat([dataset[idx][0].unsqueeze(0) for idx in indices], dim=0).to(device)\n",
    "with torch.no_grad():\n",
    "    logits = model(sample_images)\n",
    "    probs = F.softmax(logits, dim=1)\n",
    "    \n",
    "prob, cls = torch.max(probs, dim=1)\n",
    "prob, cls"
   ]
  },
  {
   "cell_type": "code",
   "execution_count": null,
   "metadata": {
    "execution": {
     "iopub.execute_input": "2025-08-13T06:07:13.316349Z",
     "iopub.status.busy": "2025-08-13T06:07:13.316098Z",
     "iopub.status.idle": "2025-08-13T06:07:13.605179Z",
     "shell.execute_reply": "2025-08-13T06:07:13.604337Z",
     "shell.execute_reply.started": "2025-08-13T06:07:13.316329Z"
    },
    "trusted": true
   },
   "outputs": [],
   "source": [
    "img_ = sample_images\n",
    "img_ = normalize(img_)\n",
    "img_ = make_grid(img_)\n",
    "img_ = img_.permute(1, 2, 0).cpu().numpy()\n",
    "plt.figure(figsize=(16, 4))\n",
    "plt.imshow(img_)"
   ]
  },
  {
   "cell_type": "code",
   "execution_count": 7,
   "metadata": {
    "execution": {
     "iopub.execute_input": "2025-08-13T06:08:13.239668Z",
     "iopub.status.busy": "2025-08-13T06:08:13.239386Z",
     "iopub.status.idle": "2025-08-13T06:08:13.311275Z",
     "shell.execute_reply": "2025-08-13T06:08:13.310704Z",
     "shell.execute_reply.started": "2025-08-13T06:08:13.239645Z"
    },
    "trusted": true
   },
   "outputs": [
    {
     "data": {
      "text/plain": [
       "(tensor([0.7713], device='cuda:0'), tensor([39], device='cuda:0'))"
      ]
     },
     "execution_count": 7,
     "metadata": {},
     "output_type": "execute_result"
    }
   ],
   "source": [
    "sample_images.requires_grad_(True)\n",
    "logits = model(sample_images)\n",
    "loss = F.cross_entropy(logits, cls)\n",
    "model.zero_grad()\n",
    "loss.backward()\n",
    "sample_grad = sample_images.grad.data\n",
    "\n",
    "epsilon = 0.01\n",
    "perturbation = epsilon * sample_grad.sign()\n",
    "adv_images = (sample_images + perturbation)\n",
    "\n",
    "mean_ = torch.tensor([0.485, 0.456, 0.406]).view(1,3,1,1).to(device)\n",
    "std_ = torch.tensor([0.229, 0.224, 0.225]).view(1,3,1,1).to(device)\n",
    "min_ = (0 - mean_) / std_\n",
    "max_ = (1 - mean_) / std_\n",
    "adv_images = torch.max(torch.min(adv_images, max_), min_)\n",
    "with torch.no_grad():\n",
    "    adv_logits = model(adv_images)\n",
    "    adv_prob, adv_cls = torch.max(F.softmax(adv_logits, dim=1), dim=1)\n",
    "\n",
    "adv_prob, adv_cls"
   ]
  },
  {
   "cell_type": "code",
   "execution_count": null,
   "metadata": {
    "execution": {
     "iopub.execute_input": "2025-08-13T06:08:20.090422Z",
     "iopub.status.busy": "2025-08-13T06:08:20.089830Z",
     "iopub.status.idle": "2025-08-13T06:08:20.347486Z",
     "shell.execute_reply": "2025-08-13T06:08:20.346685Z",
     "shell.execute_reply.started": "2025-08-13T06:08:20.090401Z"
    },
    "trusted": true
   },
   "outputs": [],
   "source": [
    "i_ = make_grid(adv_images.detach()).permute(1, 2, 0).cpu().numpy()\n",
    "i_ = normalize(i_)\n",
    "diff = i_ - img_\n",
    "# min_diff = diff.min(axis=(1, 2, 3))\n",
    "# max_diff = diff.max(axis=(1, 2, 3))\n",
    "\n",
    "diff = normalize(diff)\n",
    "\n",
    "plt.figure(figsize=(12, 4))\n",
    "plt.subplot(1, 3, 1)\n",
    "plt.imshow(i_)\n",
    "plt.axis(\"off\")\n",
    "\n",
    "plt.subplot(1, 3, 2)\n",
    "plt.imshow(diff)\n",
    "plt.axis(\"off\")\n",
    "\n",
    "plt.subplot(1, 3, 3)\n",
    "plt.imshow(diff.mean(axis=2), cmap=\"Blues\")\n",
    "plt.axis(\"off\")"
   ]
  },
  {
   "cell_type": "code",
   "execution_count": null,
   "metadata": {
    "execution": {
     "iopub.execute_input": "2025-08-13T06:08:42.191191Z",
     "iopub.status.busy": "2025-08-13T06:08:42.190530Z",
     "iopub.status.idle": "2025-08-13T06:09:51.144462Z",
     "shell.execute_reply": "2025-08-13T06:09:51.143760Z",
     "shell.execute_reply.started": "2025-08-13T06:08:42.191166Z"
    },
    "trusted": true
   },
   "outputs": [],
   "source": [
    "class SparseAutoEncoder(nn.Module):\n",
    "    def __init__(self):\n",
    "        super().__init__()\n",
    "        self.enc1 = nn.Conv2d(3, 16, kernel_size=3, stride=2, padding=1)\n",
    "        self.enc2 = nn.Conv2d(16, 32, kernel_size=3, stride=2, padding=1)\n",
    "\n",
    "        self.dec1 = nn.ConvTranspose2d(32, 16, kernel_size=3, stride=2, padding=1, output_padding=1)\n",
    "        self.dec2 = nn.ConvTranspose2d(16, 3, kernel_size=3, stride=2, padding=1, output_padding=1)\n",
    "    def forward(self, x):\n",
    "        x = F.relu(self.enc1(x))\n",
    "        h = F.relu(self.enc2(x))\n",
    "        \n",
    "        x = F.relu(self.dec1(h))\n",
    "        x = torch.sigmoid(self.dec2(x))\n",
    "        return x, h\n",
    "\n",
    "sae = SparseAutoEncoder().to(device)\n",
    "criterion = nn.MSELoss()\n",
    "optimizer = torch.optim.Adam(sae.parameters(), lr=1e-3)\n",
    "beta = 1e-2\n",
    "\n",
    "for epoch in range(2):\n",
    "    for imgs, _ in tqdm(loader):\n",
    "        imgs = imgs.to(device)\n",
    "        recon, h = sae(imgs)\n",
    "        recon_loss = criterion(recon, imgs)\n",
    "        sparse_loss = beta * h.abs().mean()\n",
    "        loss = recon_loss + sparse_loss\n",
    "        optimizer.zero_grad()\n",
    "        loss.backward()\n",
    "        optimizer.step()"
   ]
  },
  {
   "cell_type": "code",
   "execution_count": 12,
   "metadata": {
    "execution": {
     "iopub.execute_input": "2025-08-13T06:10:36.947974Z",
     "iopub.status.busy": "2025-08-13T06:10:36.947712Z",
     "iopub.status.idle": "2025-08-13T06:10:36.966853Z",
     "shell.execute_reply": "2025-08-13T06:10:36.966317Z",
     "shell.execute_reply.started": "2025-08-13T06:10:36.947955Z"
    },
    "trusted": true
   },
   "outputs": [
    {
     "data": {
      "text/plain": [
       "[16, 30, 1, 18]"
      ]
     },
     "execution_count": 12,
     "metadata": {},
     "output_type": "execute_result"
    }
   ],
   "source": [
    "sae_preprocessing = transforms.Resize(64)\n",
    "\n",
    "original_images = sae_preprocessing(sample_images[0]).unsqueeze(0).to(device)\n",
    "adv_images = sae_preprocessing(torch.clamp(adv_images, min_, max_)[0]).unsqueeze(0).to(device)\n",
    "\n",
    "with torch.no_grad():\n",
    "    _, original_h = sae(original_images)\n",
    "    _, adv_h = sae(adv_images)\n",
    "    \n",
    "diff = (original_h - adv_h).abs()\n",
    "mean_diff = diff.mean().item()\n",
    "channel_diff = diff.mean(dim=(0, 2, 3)).cpu()\n",
    "top_channels = torch.argsort(channel_diff, descending=True)[:4]\n",
    "top_channels.tolist()"
   ]
  },
  {
   "cell_type": "code",
   "execution_count": null,
   "metadata": {
    "execution": {
     "iopub.execute_input": "2025-08-13T06:16:47.590090Z",
     "iopub.status.busy": "2025-08-13T06:16:47.589640Z",
     "iopub.status.idle": "2025-08-13T06:16:47.596868Z",
     "shell.execute_reply": "2025-08-13T06:16:47.596231Z",
     "shell.execute_reply.started": "2025-08-13T06:16:47.590069Z"
    },
    "trusted": true
   },
   "outputs": [],
   "source": [
    "original_h[0, :, 0, 0]"
   ]
  },
  {
   "cell_type": "code",
   "execution_count": null,
   "metadata": {
    "execution": {
     "iopub.execute_input": "2025-08-13T06:10:47.297709Z",
     "iopub.status.busy": "2025-08-13T06:10:47.297169Z",
     "iopub.status.idle": "2025-08-13T06:10:47.658144Z",
     "shell.execute_reply": "2025-08-13T06:10:47.657449Z",
     "shell.execute_reply.started": "2025-08-13T06:10:47.297687Z"
    },
    "trusted": true
   },
   "outputs": [],
   "source": [
    "plt.figure(figsize=(16, 4))\n",
    "plt.subplot(1, 5, 1)\n",
    "plt.imshow(img_)\n",
    "plt.axis(\"off\")\n",
    "for i in range(4):\n",
    "    plot = diff[:, top_channels[i:i+1]]\n",
    "    plot = F.interpolate(plot, scale_factor=16, mode=\"area\")[0, 0].cpu().numpy()\n",
    "    plot = normalize(plot)\n",
    "    plt.subplot(1, 5, i+2)\n",
    "    plt.imshow(plot, cmap=\"Blues\")\n",
    "    plt.axis(\"off\")"
   ]
  }
 ],
 "metadata": {
  "kaggle": {
   "accelerator": "none",
   "dataSources": [],
   "dockerImageVersionId": 31089,
   "isGpuEnabled": false,
   "isInternetEnabled": true,
   "language": "python",
   "sourceType": "notebook"
  },
  "kernelspec": {
   "display_name": "Python 3",
   "language": "python",
   "name": "python3"
  },
  "language_info": {
   "codemirror_mode": {
    "name": "ipython",
    "version": 3
   },
   "file_extension": ".py",
   "mimetype": "text/x-python",
   "name": "python",
   "nbconvert_exporter": "python",
   "pygments_lexer": "ipython3",
   "version": "3.11.13"
  }
 },
 "nbformat": 4,
 "nbformat_minor": 4
}
