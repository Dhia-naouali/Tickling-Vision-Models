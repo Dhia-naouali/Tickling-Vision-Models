{
 "cells": [
  {
   "cell_type": "code",
   "execution_count": null,
   "metadata": {
    "execution": {
     "iopub.execute_input": "2025-08-13T06:23:48.951604Z",
     "iopub.status.busy": "2025-08-13T06:23:48.950997Z",
     "iopub.status.idle": "2025-08-13T06:24:40.548913Z",
     "shell.execute_reply": "2025-08-13T06:24:40.547832Z",
     "shell.execute_reply.started": "2025-08-13T06:23:48.951576Z"
    },
    "trusted": true
   },
   "outputs": [],
   "source": [
    "import torch\n",
    "from torch import nn, optim\n",
    "import torch.nn.functional as F\n",
    "from torch.utils.data import DataLoader, TensorDataset\n",
    "\n",
    "import pytorch_lightning as pl\n",
    "from torchvision import datasets, transforms\n",
    "\n",
    "import umap\n",
    "import numpy as np\n",
    "import matplotlib.pyplot as plt\n",
    "from tqdm import tqdm\n",
    "\n",
    "transform = transforms.ToTensor()\n",
    "train_dataset = datasets.MNIST(root='./data', train=True, download=True, transform=transform)\n",
    "train_loader = torch.utils.data.DataLoader(train_dataset, batch_size=256, shuffle=False)\n",
    "\n",
    "test_dataset = datasets.MNIST(root='./data', train=False, download=True, transform=transform)\n",
    "test_loader = torch.utils.data.DataLoader(test_dataset, batch_size=256, shuffle=False)"
   ]
  },
  {
   "cell_type": "code",
   "execution_count": 2,
   "metadata": {
    "execution": {
     "iopub.execute_input": "2025-08-13T06:24:48.921505Z",
     "iopub.status.busy": "2025-08-13T06:24:48.920809Z",
     "iopub.status.idle": "2025-08-13T06:25:31.316842Z",
     "shell.execute_reply": "2025-08-13T06:25:31.316159Z",
     "shell.execute_reply.started": "2025-08-13T06:24:48.921476Z"
    },
    "trusted": true
   },
   "outputs": [
    {
     "data": {
      "application/vnd.jupyter.widget-view+json": {
       "model_id": "",
       "version_major": 2,
       "version_minor": 0
      },
      "text/plain": [
       "Sanity Checking: |          | 0/? [00:00<?, ?it/s]"
      ]
     },
     "metadata": {},
     "output_type": "display_data"
    },
    {
     "name": "stderr",
     "output_type": "stream",
     "text": [
      "/usr/local/lib/python3.11/dist-packages/pytorch_lightning/trainer/connectors/data_connector.py:425: The 'val_dataloader' does not have many workers which may be a bottleneck. Consider increasing the value of the `num_workers` argument` to `num_workers=3` in the `DataLoader` to improve performance.\n",
      "/usr/local/lib/python3.11/dist-packages/pytorch_lightning/trainer/connectors/data_connector.py:425: The 'train_dataloader' does not have many workers which may be a bottleneck. Consider increasing the value of the `num_workers` argument` to `num_workers=3` in the `DataLoader` to improve performance.\n"
     ]
    },
    {
     "data": {
      "application/vnd.jupyter.widget-view+json": {
       "model_id": "cf9f671df22b4733b1799eb02bf983ea",
       "version_major": 2,
       "version_minor": 0
      },
      "text/plain": [
       "Training: |          | 0/? [00:00<?, ?it/s]"
      ]
     },
     "metadata": {},
     "output_type": "display_data"
    },
    {
     "data": {
      "application/vnd.jupyter.widget-view+json": {
       "model_id": "",
       "version_major": 2,
       "version_minor": 0
      },
      "text/plain": [
       "Validation: |          | 0/? [00:00<?, ?it/s]"
      ]
     },
     "metadata": {},
     "output_type": "display_data"
    },
    {
     "data": {
      "application/vnd.jupyter.widget-view+json": {
       "model_id": "",
       "version_major": 2,
       "version_minor": 0
      },
      "text/plain": [
       "Validation: |          | 0/? [00:00<?, ?it/s]"
      ]
     },
     "metadata": {},
     "output_type": "display_data"
    },
    {
     "data": {
      "application/vnd.jupyter.widget-view+json": {
       "model_id": "",
       "version_major": 2,
       "version_minor": 0
      },
      "text/plain": [
       "Validation: |          | 0/? [00:00<?, ?it/s]"
      ]
     },
     "metadata": {},
     "output_type": "display_data"
    },
    {
     "data": {
      "application/vnd.jupyter.widget-view+json": {
       "model_id": "",
       "version_major": 2,
       "version_minor": 0
      },
      "text/plain": [
       "Validation: |          | 0/? [00:00<?, ?it/s]"
      ]
     },
     "metadata": {},
     "output_type": "display_data"
    }
   ],
   "source": [
    "class CNN(pl.LightningModule):\n",
    "    def __init__(self):\n",
    "        super().__init__()\n",
    "        self.mlp1 = nn.Sequential(\n",
    "            nn.Flatten(),\n",
    "            nn.Linear(784, 64),\n",
    "            nn.ReLU(),\n",
    "            nn.Linear(64, 64),\n",
    "            nn.ReLU(),\n",
    "            nn.Linear(64, 64),\n",
    "            nn.ReLU(),\n",
    "        )\n",
    "        self.mlp2 = nn.Sequential(\n",
    "            nn.Linear(64, 64),\n",
    "            nn.ReLU(),\n",
    "            nn.Linear(64, 10)\n",
    "        )\n",
    "        self.loss_fn = nn.CrossEntropyLoss()\n",
    "        self.lr = 1e-3\n",
    "\n",
    "    def forward(self, x):\n",
    "        a = self.mlp1(x)\n",
    "        out = self.mlp2(a)\n",
    "        return out, a\n",
    "\n",
    "    def training_step(self, batch, batch_idx):\n",
    "        x, y = batch\n",
    "        logits, _ = self(x)\n",
    "        loss = self.loss_fn(logits, y)\n",
    "        self.log(\"loss\", loss)\n",
    "        return loss\n",
    "\n",
    "    def validation_step(self, batch, batch_idx):\n",
    "        x, y = batch\n",
    "        logits, _ = self(x)\n",
    "        loss = self.loss_fn(logits, y)\n",
    "        acc = (logits.argmax(dim=1) == y).float().mean()\n",
    "        self.log(\"val_loss\", loss, prog_bar=True)\n",
    "        self.log(\"val_acc\", acc, prog_bar=True)\n",
    "\n",
    "    def configure_optimizers(self):\n",
    "        return torch.optim.Adam(self.parameters(), lr=self.lr)\n",
    "\n",
    "\n",
    "model = CNN()\n",
    "trainer = pl.Trainer(max_epochs=4, accelerator=\"auto\", log_every_n_steps=10)\n",
    "\n",
    "trainer.fit(model, train_loader, test_loader)"
   ]
  },
  {
   "cell_type": "code",
   "execution_count": 5,
   "metadata": {
    "execution": {
     "iopub.execute_input": "2025-08-13T06:25:38.136313Z",
     "iopub.status.busy": "2025-08-13T06:25:38.135922Z",
     "iopub.status.idle": "2025-08-13T06:25:39.268801Z",
     "shell.execute_reply": "2025-08-13T06:25:39.267894Z",
     "shell.execute_reply.started": "2025-08-13T06:25:38.136284Z"
    },
    "trusted": true
   },
   "outputs": [],
   "source": [
    "activations = []\n",
    "labels = []\n",
    "images = []\n",
    "with torch.no_grad():\n",
    "    for imgs, lbls in test_loader:\n",
    "        _, feats = model(imgs)\n",
    "        activations.append(feats)\n",
    "        labels.append(lbls)\n",
    "        images.append(imgs)\n",
    "\n",
    "activations = torch.cat(activations).numpy()\n",
    "labels = torch.cat(labels).numpy()\n",
    "images = torch.cat(images)"
   ]
  },
  {
   "cell_type": "code",
   "execution_count": 6,
   "metadata": {
    "execution": {
     "iopub.execute_input": "2025-08-13T06:25:39.270504Z",
     "iopub.status.busy": "2025-08-13T06:25:39.270226Z",
     "iopub.status.idle": "2025-08-13T06:25:39.276687Z",
     "shell.execute_reply": "2025-08-13T06:25:39.275830Z",
     "shell.execute_reply.started": "2025-08-13T06:25:39.270473Z"
    },
    "trusted": true
   },
   "outputs": [
    {
     "data": {
      "text/plain": [
       "((10000, 64), (10000,), torch.Size([10000, 1, 28, 28]))"
      ]
     },
     "execution_count": 6,
     "metadata": {},
     "output_type": "execute_result"
    }
   ],
   "source": [
    "activations.shape, labels.shape, images.shape"
   ]
  },
  {
   "cell_type": "code",
   "execution_count": 7,
   "metadata": {
    "execution": {
     "iopub.execute_input": "2025-08-13T06:25:40.114202Z",
     "iopub.status.busy": "2025-08-13T06:25:40.113304Z",
     "iopub.status.idle": "2025-08-13T06:26:24.656677Z",
     "shell.execute_reply": "2025-08-13T06:26:24.655904Z",
     "shell.execute_reply.started": "2025-08-13T06:25:40.114172Z"
    },
    "trusted": true
   },
   "outputs": [],
   "source": [
    "reducer = umap.UMAP(n_neighbors=20, min_dist=0.1, random_state=42, n_jobs=1)\n",
    "embedding = reducer.fit_transform(activations)"
   ]
  },
  {
   "cell_type": "code",
   "execution_count": 9,
   "metadata": {
    "execution": {
     "iopub.execute_input": "2025-08-13T06:26:29.304208Z",
     "iopub.status.busy": "2025-08-13T06:26:29.303850Z",
     "iopub.status.idle": "2025-08-13T06:26:29.310367Z",
     "shell.execute_reply": "2025-08-13T06:26:29.309542Z",
     "shell.execute_reply.started": "2025-08-13T06:26:29.304184Z"
    },
    "trusted": true
   },
   "outputs": [],
   "source": [
    "source, target = 8, 1\n",
    "src_idx = np.where(labels == source)[0][0]\n",
    "target_idx = np.where(labels == target)[0][0]\n",
    "\n",
    "src_img = images[src_idx:src_idx+1]\n",
    "adv_src_img = src_img.clone().detach().requires_grad_(True)"
   ]
  },
  {
   "cell_type": "code",
   "execution_count": 16,
   "metadata": {
    "execution": {
     "iopub.execute_input": "2025-08-13T06:28:15.948863Z",
     "iopub.status.busy": "2025-08-13T06:28:15.947809Z",
     "iopub.status.idle": "2025-08-13T06:28:32.935909Z",
     "shell.execute_reply": "2025-08-13T06:28:32.934880Z",
     "shell.execute_reply.started": "2025-08-13T06:28:15.948832Z"
    },
    "trusted": true
   },
   "outputs": [
    {
     "name": "stderr",
     "output_type": "stream",
     "text": [
      "100%|██████████| 40/40 [00:16<00:00,  2.36it/s]\n"
     ]
    }
   ],
   "source": [
    "optimizer = optim.Adam([adv_src_img], lr=1e-3)\n",
    "steps = 40\n",
    "alphas = []\n",
    "scenes = []\n",
    "\n",
    "for step in tqdm(range(steps)):\n",
    "    model.zero_grad()\n",
    "    logits, _ = model(adv_src_img)\n",
    "    loss = F.cross_entropy(logits, torch.tensor([target]))\n",
    "    loss.backward()\n",
    "    optimizer.step()\n",
    "\n",
    "    perturb = torch.clamp(adv_src_img - src_img, -0.3, 0.3)\n",
    "    adv_src_img.data = src_img + perturb\n",
    "    adv_src_img.data = torch.clamp(adv_src_img, 0, 1)\n",
    "    \n",
    "    with torch.no_grad():\n",
    "        _, a = model(adv_src_img)\n",
    "    alphas.append(reducer.transform(a.numpy()))\n",
    "    scenes.append(adv_src_img.detach().clone())"
   ]
  },
  {
   "cell_type": "code",
   "execution_count": null,
   "metadata": {
    "execution": {
     "iopub.execute_input": "2025-08-13T06:28:41.101387Z",
     "iopub.status.busy": "2025-08-13T06:28:41.101014Z",
     "iopub.status.idle": "2025-08-13T06:28:41.488832Z",
     "shell.execute_reply": "2025-08-13T06:28:41.487751Z",
     "shell.execute_reply.started": "2025-08-13T06:28:41.101363Z"
    },
    "trusted": true
   },
   "outputs": [],
   "source": [
    "scatter = plt.scatter(embedding[:,0], embedding[:,1], c=labels, cmap='Blues', alpha=0.2)\n",
    "path_points = np.vstack(alphas)\n",
    "plt.plot(path_points[:,0], path_points[:,1], color='red', marker='o')\n",
    "plt.show()"
   ]
  },
  {
   "cell_type": "code",
   "execution_count": null,
   "metadata": {
    "execution": {
     "iopub.execute_input": "2025-08-13T06:28:49.364462Z",
     "iopub.status.busy": "2025-08-13T06:28:49.364128Z",
     "iopub.status.idle": "2025-08-13T06:28:49.635397Z",
     "shell.execute_reply": "2025-08-13T06:28:49.634565Z",
     "shell.execute_reply.started": "2025-08-13T06:28:49.364438Z"
    },
    "trusted": true
   },
   "outputs": [],
   "source": [
    "fig, axes = plt.subplots(1, len(scenes)//4, figsize=(12,2))\n",
    "for i, ax in enumerate(axes):\n",
    "    ax.imshow(scenes[i*4][0, 0].numpy(), cmap='gray')\n",
    "    ax.axis('off')\n",
    "\n",
    "plt.tight_layout()\n",
    "plt.title(f\"{source} -> {target}\")\n",
    "plt.show()"
   ]
  }
 ],
 "metadata": {
  "kaggle": {
   "accelerator": "none",
   "dataSources": [],
   "dockerImageVersionId": 31089,
   "isGpuEnabled": false,
   "isInternetEnabled": true,
   "language": "python",
   "sourceType": "notebook"
  },
  "kernelspec": {
   "display_name": "Python 3",
   "language": "python",
   "name": "python3"
  },
  "language_info": {
   "codemirror_mode": {
    "name": "ipython",
    "version": 3
   },
   "file_extension": ".py",
   "mimetype": "text/x-python",
   "name": "python",
   "nbconvert_exporter": "python",
   "pygments_lexer": "ipython3",
   "version": "3.11.13"
  }
 },
 "nbformat": 4,
 "nbformat_minor": 4
}
